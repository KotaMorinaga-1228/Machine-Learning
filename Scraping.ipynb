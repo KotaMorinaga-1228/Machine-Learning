{
  "nbformat": 4,
  "nbformat_minor": 0,
  "metadata": {
    "colab": {
      "provenance": []
    },
    "kernelspec": {
      "name": "python3",
      "display_name": "Python 3"
    },
    "language_info": {
      "name": "python"
    }
  },
  "cells": [
    {
      "cell_type": "code",
      "source": [
        "#スクレイピング\n",
        "import time\n",
        "import csv\n",
        "import requests\n",
        "from bs4 import BeautifulSoup\n",
        "for i in range(9765,9999,10):\n",
        "  url = 'https://rocklyric.jp/lyric.php?sid=175'+ str(i)\n",
        "  r = requests.get(url)\n",
        "  soup = BeautifulSoup(r.text, 'html.parser')\n",
        "  actors = soup.select('#lyric_area > p')[0].contents\n",
        "\n",
        "  with open('drive/MyDrive/実習B/rsv', 'a', encoding='utf-8') as f:\n",
        "    writer = csv.writer(f)\n",
        "    writer.writerow(actors)\n",
        "time.sleep(1)"
      ],
      "metadata": {
        "id": "9KZVSWJbDLRg"
      },
      "execution_count": null,
      "outputs": []
    },
    {
      "cell_type": "code",
      "source": [
        "#データの正規化\n",
        "f = open('drive/MyDrive/実習B/rock_test.csv', 'r')\n",
        "useful_rock=[]\n",
        "datalist = f.readlines()\n",
        "for data in datalist:\n",
        "  data = data.replace('<br/>','')\n",
        "  data = data.replace('\"','')\n",
        "  data = data.replace(',','')\n",
        "  data = data.replace('\\n','')\n",
        "  data = data.replace('\\u3000','')\n",
        "  useful_rock.append(data)\n",
        "useful_rock = list(filter(None, useful_rock))\n",
        "\n",
        "#データの結合およびラベリング\n",
        "full_rock={}\n",
        "for l in range(0,len(useful_rock)-31,31):\n",
        "  n=''\n",
        "  for s in range(31):\n",
        "    n += useful_rock[l+s]\n",
        "  full_rock[n]=1\n",
        "\n",
        "slice_rock={}\n",
        "for j in useful_rock:\n",
        "  slice_rock[j]=1\n",
        "\n",
        "#データの格納\n",
        "w1 = open('drive/MyDrive/実習B/full_AI.csv', 'w')\n",
        "w1.write('id,label,text\\n')\n",
        "count=1\n",
        "for k,t in full_rock.items():\n",
        "  w1.write(str(count)+','+str(t)+','+ k +'\\n')\n",
        "  if count == 600:\n",
        "    break\n",
        "  count+=1\n",
        "w1.close()\n",
        "\n",
        "w2 = open('drive/MyDrive/実習B/slice_AI.csv', 'w')\n",
        "w2.write('id,label,text\\n')\n",
        "count=1\n",
        "for p,o in slice_rock.items():\n",
        "  w2.write(str(count)+','+str(o)+','+ p +'\\n')\n",
        "  if count == 14000:\n",
        "    break\n",
        "  count+=1\n",
        "w2.close()"
      ],
      "metadata": {
        "id": "IgX5YOZ2IRRW"
      },
      "execution_count": null,
      "outputs": []
    },
    {
      "cell_type": "code",
      "source": [
        "#データの正規化\n",
        "f = open('drive/MyDrive/実習B/hiphop.csv', 'r')\n",
        "datalist2 = f.readlines()\n",
        "useful_hiphop=[]\n",
        "for data2 in datalist2:\n",
        "  data2.split(',')\n",
        "  data2 = data2.replace('<br/>','')\n",
        "  data2 = data2.replace('\"','')\n",
        "  data2 = data2.replace(',','')\n",
        "  data2 = data2.replace('\\n','')\n",
        "  data2 = data2.replace('\\u3000','')\n",
        "  useful_hiphop.append(data2)\n",
        "useful_hiphop = list(filter(None, useful_hiphop))\n",
        "\n",
        "#データの結合およびラベリング\n",
        "full_hiphop={}\n",
        "for w in range(0,len(useful_hiphop)-62,62):\n",
        "  x=''\n",
        "  for y in range(62):\n",
        "    x += useful_hiphop[w+y]\n",
        "  full_hiphop[x]=0\n",
        "\n",
        "slice_hiphop={}\n",
        "for z in range(0,len(useful_hiphop)-1,2):\n",
        "  a=''\n",
        "  a+=useful_hiphop[z]\n",
        "  a+=useful_hiphop[z+1]\n",
        "  slice_hiphop[a]=0\n",
        "\n",
        "#データの格納\n",
        "w3 = open('drive/MyDrive/実習B/full_AI.csv', 'a')\n",
        "count=1\n",
        "for m,v in full_hiphop.items():\n",
        "  w3.write(str(count+600)+','+str(v)+','+ m +'\\n')\n",
        "  if count == 600:\n",
        "    break\n",
        "  count+=1\n",
        "w3.close()\n",
        "\n",
        "w4 = open('drive/MyDrive/実習B/slice_AI.csv', 'a')\n",
        "count=1\n",
        "for h,g in slice_hiphop.items():\n",
        "  w4.write(str(count+14000)+','+str(g)+','+ h +'\\n')\n",
        "  if count == 14000:\n",
        "    break\n",
        "  count+=1\n",
        "w4.close()"
      ],
      "metadata": {
        "id": "XMYP5y9GKp_E"
      },
      "execution_count": null,
      "outputs": []
    },
    {
      "cell_type": "code",
      "source": [],
      "metadata": {
        "id": "4JRS2B3-2GEI"
      },
      "execution_count": null,
      "outputs": []
    }
  ]
}